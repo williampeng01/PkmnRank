{
 "cells": [
  {
   "cell_type": "code",
   "execution_count": 1,
   "id": "43b89a10",
   "metadata": {},
   "outputs": [],
   "source": [
    "from bs4 import BeautifulSoup\n",
    "import requests\n",
    "import pandas as pd"
   ]
  },
  {
   "cell_type": "code",
   "execution_count": 2,
   "id": "12ceee5d",
   "metadata": {},
   "outputs": [],
   "source": [
    "with open(\"Smogon's Official Ladder Tournament VIII - Replay Thread _ Smogon Forums.html\",\"r\") as html_file:\n",
    "    content = html_file.read()\n",
    "    \n",
    "soup = BeautifulSoup(content, 'lxml')"
   ]
  },
  {
   "cell_type": "code",
   "execution_count": 3,
   "id": "324c2986",
   "metadata": {},
   "outputs": [],
   "source": [
    "usernames = soup.find_all('a', class_=\"username\")\n",
    "unames = []\n",
    "for names in usernames:\n",
    "    names = names.text.replace('','')\n",
    "    if names != 'Wigglytuff'and names != \"Vileman\":\n",
    "        unames.append(names)"
   ]
  },
  {
   "cell_type": "code",
   "execution_count": 4,
   "id": "a8a74f90",
   "metadata": {},
   "outputs": [
    {
     "name": "stdout",
     "output_type": "stream",
     "text": [
      "['Insult', 'Ahsan-219', 'SoulWind', 'Tace', 'MichaelderBeste2', 'haxrme', 'Rubyblood', 'eclipseY', 'Eternal Spirit', 'Gray', 'Lusa', 'Ayoukoo', 'Misterioussaint', 'beatiful', 'Lord_Enz', 'SpookyZ', 'Bushtush', 'Chaitanya', 'Tricking', 'John W', 'devin', 'BIHI', 'HSA', 'UnzipsCrogre', 'TDNT', 'Sagiri', 'ABR', 'Storm Zone', 'Flex OKLM', 'Punny', 'Ox the Fox', 'Empo']\n"
     ]
    }
   ],
   "source": [
    "setnames = set(unames)\n",
    "finalnames = list(setnames)\n",
    "print(finalnames)"
   ]
  },
  {
   "cell_type": "code",
   "execution_count": 5,
   "id": "e4dece0a",
   "metadata": {},
   "outputs": [],
   "source": [
    "linksoup = soup.find_all('a', class_= 'link link--external')"
   ]
  },
  {
   "cell_type": "code",
   "execution_count": 6,
   "id": "4598d844",
   "metadata": {},
   "outputs": [],
   "source": [
    "links_temp = []\n",
    "for x in linksoup:\n",
    "    links_temp.append(x['href'])\n",
    "    \n",
    "finallinks = []\n",
    "for x in links_temp:\n",
    "    if 'replay' in x:\n",
    "        finallinks.append(x)"
   ]
  },
  {
   "cell_type": "code",
   "execution_count": 7,
   "id": "35cca77e",
   "metadata": {},
   "outputs": [],
   "source": [
    "def matchPlayerID(name):\n",
    "    if(name == 'Sagiri I.' or name == 'Sagiri I'):\n",
    "        return 'Sagiri'\n",
    "    elif(name == 'Lopunny kicks'):\n",
    "        return \"Punny\"\n",
    "    elif(name == 'devwin'):\n",
    "        return 'devin'\n",
    "    elif(name == 'Tace㋛'):\n",
    "        return 'Tace'\n",
    "    elif(name == 'SCILLATRON9000' or name == 'SCILLATRON 9000' or name == 'uhuhuhu2'):\n",
    "        return 'Tricking'\n",
    "    elif(name == 'INSULT'):\n",
    "        return 'Insult'\n",
    "    elif(name == 'Ayouko'):\n",
    "        return 'Ayoukoo'\n",
    "    elif(name == 'BIHI Gregson' or name == 'BIHI Asogi' or name == 'Cotisation URSSAF'):\n",
    "        return 'BIHI'\n",
    "    elif(name == 'EclipseY'):\n",
    "        return 'eclipseY'\n",
    "    elif(name == 'misterioussaint'):\n",
    "        return 'Misterioussaint'\n",
    "    elif(name == 'hsa'):\n",
    "        return 'HSA'\n",
    "    elif(name == 'imjustgray'):\n",
    "        return 'Gray'\n",
    "    elif(name == 'LordEnz'):\n",
    "        return 'Lord_Enz'\n",
    "    elif(name == 'Bbeeaa' or name == 'FREE XIMRAPTOR' or name == 'Freeximraptor'):\n",
    "        return 'beatiful'\n",
    "    elif(name == 'SOULWIND'):\n",
    "        return 'SoulWind'\n",
    "    elif(name == 'john w'):\n",
    "        return 'John W'\n",
    "    elif(name == 'storm zone'):\n",
    "        return 'Storm Zone'\n",
    "    else:\n",
    "        return name"
   ]
  },
  {
   "cell_type": "code",
   "execution_count": null,
   "id": "97de5f4a",
   "metadata": {},
   "outputs": [],
   "source": [
    "import requests\n",
    "edges = []\n",
    "for x in finallinks:\n",
    "    battlefile = requests.get(x)\n",
    "    temp_soup = BeautifulSoup(battlefile.text, 'lxml')\n",
    "    players = []\n",
    "    for y in temp_soup.find_all('a', class_ = 'subtle'):\n",
    "        players.append(y.text.replace('',''))\n",
    "    logs = battlefile.text.splitlines()\n",
    "    winline = \"\"\n",
    "    for i in logs:\n",
    "        if \"win\" in i:\n",
    "            winline = i\n",
    "    if players[0] in winline:\n",
    "        edges.append([matchPlayerID(players[1]) , matchPlayerID(players[0])]) \n",
    "    elif players[1] in winline:\n",
    "        edges.append([matchPlayerID(players[0]) , matchPlayerID(players[1])]) \n",
    "    "
   ]
  },
  {
   "cell_type": "code",
   "execution_count": null,
   "id": "6cdf8836",
   "metadata": {},
   "outputs": [],
   "source": [
    "import networkx as nx\n",
    "\n",
    "G = nx.DiGraph()\n",
    "G.add_nodes_from(finalnames)\n",
    "G.add_edges_from(edges)\n"
   ]
  },
  {
   "cell_type": "markdown",
   "id": "79f8bee5",
   "metadata": {},
   "source": [
    "### Using PageRank"
   ]
  },
  {
   "cell_type": "code",
   "execution_count": null,
   "id": "c6b83804",
   "metadata": {},
   "outputs": [],
   "source": [
    "PRank = nx.pagerank(G, alpha=0.85, personalization=None, weight='weight', dangling=None)"
   ]
  },
  {
   "cell_type": "code",
   "execution_count": null,
   "id": "1a4ddbe2",
   "metadata": {},
   "outputs": [],
   "source": [
    "d1 = sorted(PRank.items(), key=lambda x: x[1])"
   ]
  },
  {
   "cell_type": "code",
   "execution_count": null,
   "id": "e71fa028",
   "metadata": {},
   "outputs": [],
   "source": [
    "df = pd.DataFrame(data = d1, columns=['Player','Score'])\n",
    "print(df)\n",
    "df.to_excel('PR.xlsx')\n"
   ]
  },
  {
   "cell_type": "markdown",
   "id": "bd238e59",
   "metadata": {},
   "source": [
    "### Using Win/Loss Ratio"
   ]
  },
  {
   "cell_type": "code",
   "execution_count": null,
   "id": "aab8272e",
   "metadata": {},
   "outputs": [],
   "source": [
    "dictWin = {i : 0 for i in finalnames}\n",
    "dictLoss = {i : 0 for i in finalnames}\n",
    "for x in edges:\n",
    "    dictLoss[x[0]] = dictLoss[x[0]] + 1\n",
    "    dictWin[x[1]] = dictWin[x[0]] + 1\n",
    "    "
   ]
  },
  {
   "cell_type": "code",
   "execution_count": null,
   "id": "c90cc3c9",
   "metadata": {},
   "outputs": [],
   "source": [
    "dictWinLoss = {i : 0 for i in finalnames}\n",
    "for key in dictWinLoss:\n",
    "    dictWinLoss[key] = dictWin[key]/dictLoss[key]"
   ]
  },
  {
   "cell_type": "code",
   "execution_count": null,
   "id": "54ac58b3",
   "metadata": {},
   "outputs": [],
   "source": [
    "d2 = sorted(dictWinLoss.items(), key=lambda x: x[1])"
   ]
  },
  {
   "cell_type": "code",
   "execution_count": null,
   "id": "d9b3623c",
   "metadata": {},
   "outputs": [],
   "source": [
    "df = pd.DataFrame(data = d2, columns=['Player','Score'])\n",
    "print(df)\n",
    "df.to_excel('WL.xlsx')"
   ]
  }
 ],
 "metadata": {
  "kernelspec": {
   "display_name": "Python 3 (ipykernel)",
   "language": "python",
   "name": "python3"
  },
  "language_info": {
   "codemirror_mode": {
    "name": "ipython",
    "version": 3
   },
   "file_extension": ".py",
   "mimetype": "text/x-python",
   "name": "python",
   "nbconvert_exporter": "python",
   "pygments_lexer": "ipython3",
   "version": "3.9.7"
  }
 },
 "nbformat": 4,
 "nbformat_minor": 5
}
